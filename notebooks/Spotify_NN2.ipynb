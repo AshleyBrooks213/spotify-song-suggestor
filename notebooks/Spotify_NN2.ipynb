{
  "nbformat": 4,
  "nbformat_minor": 0,
  "metadata": {
    "colab": {
      "name": "Spotify_NN2.ipynb",
      "provenance": [],
      "collapsed_sections": []
    },
    "kernelspec": {
      "name": "python3",
      "display_name": "Python 3"
    }
  },
  "cells": [
    {
      "cell_type": "code",
      "metadata": {
        "id": "3Pd0QFtBCW7E"
      },
      "source": [
        "import pandas as pd\r\n",
        "import numpy as np\r\n",
        "import re"
      ],
      "execution_count": null,
      "outputs": []
    },
    {
      "cell_type": "code",
      "metadata": {
        "colab": {
          "base_uri": "https://localhost:8080/",
          "height": 221
        },
        "id": "oMJ1hOWDCoij",
        "outputId": "bfcf8bf8-eea2-47a1-d83d-50c5ab61afbf"
      },
      "source": [
        "df = pd.read_csv('https://raw.githubusercontent.com/boscolio/spotify_data/main/spotify.csv', index_col=[0])\r\n",
        "print(df.shape)\r\n",
        "df.head()"
      ],
      "execution_count": null,
      "outputs": [
        {
          "output_type": "stream",
          "text": [
            "(157994, 13)\n"
          ],
          "name": "stdout"
        },
        {
          "output_type": "execute_result",
          "data": {
            "text/html": [
              "<div>\n",
              "<style scoped>\n",
              "    .dataframe tbody tr th:only-of-type {\n",
              "        vertical-align: middle;\n",
              "    }\n",
              "\n",
              "    .dataframe tbody tr th {\n",
              "        vertical-align: top;\n",
              "    }\n",
              "\n",
              "    .dataframe thead th {\n",
              "        text-align: right;\n",
              "    }\n",
              "</style>\n",
              "<table border=\"1\" class=\"dataframe\">\n",
              "  <thead>\n",
              "    <tr style=\"text-align: right;\">\n",
              "      <th></th>\n",
              "      <th>name</th>\n",
              "      <th>artists</th>\n",
              "      <th>acousticness</th>\n",
              "      <th>danceability</th>\n",
              "      <th>energy</th>\n",
              "      <th>instrumentalness</th>\n",
              "      <th>key</th>\n",
              "      <th>liveness</th>\n",
              "      <th>loudness</th>\n",
              "      <th>popularity</th>\n",
              "      <th>speechiness</th>\n",
              "      <th>tempo</th>\n",
              "      <th>valence</th>\n",
              "    </tr>\n",
              "  </thead>\n",
              "  <tbody>\n",
              "    <tr>\n",
              "      <th>0</th>\n",
              "      <td>Main Title - Gone With the Wind</td>\n",
              "      <td>Max Steiner</td>\n",
              "      <td>0.680</td>\n",
              "      <td>0.170</td>\n",
              "      <td>0.430</td>\n",
              "      <td>0.854000</td>\n",
              "      <td>0.454545</td>\n",
              "      <td>0.459</td>\n",
              "      <td>0.810649</td>\n",
              "      <td>0.32</td>\n",
              "      <td>0.0357</td>\n",
              "      <td>0.500191</td>\n",
              "      <td>0.171</td>\n",
              "    </tr>\n",
              "    <tr>\n",
              "      <th>1</th>\n",
              "      <td>Seven Come Eleven (feat. Benny Goodman &amp; Charl...</td>\n",
              "      <td>Benny Goodman Sextet, Benny Goodman, Charlie C...</td>\n",
              "      <td>0.727</td>\n",
              "      <td>0.703</td>\n",
              "      <td>0.720</td>\n",
              "      <td>0.016000</td>\n",
              "      <td>0.090909</td>\n",
              "      <td>0.185</td>\n",
              "      <td>0.831843</td>\n",
              "      <td>0.27</td>\n",
              "      <td>0.0292</td>\n",
              "      <td>0.475091</td>\n",
              "      <td>0.823</td>\n",
              "    </tr>\n",
              "    <tr>\n",
              "      <th>2</th>\n",
              "      <td>Let's Do It (with Eddie Heywood &amp; His Orchestr...</td>\n",
              "      <td>Billie Holiday, Eddie Heywood</td>\n",
              "      <td>0.983</td>\n",
              "      <td>0.543</td>\n",
              "      <td>0.182</td>\n",
              "      <td>0.000171</td>\n",
              "      <td>0.454545</td>\n",
              "      <td>0.258</td>\n",
              "      <td>0.714577</td>\n",
              "      <td>0.21</td>\n",
              "      <td>0.0537</td>\n",
              "      <td>0.584427</td>\n",
              "      <td>0.597</td>\n",
              "    </tr>\n",
              "    <tr>\n",
              "      <th>3</th>\n",
              "      <td>9:20 Special</td>\n",
              "      <td>Count Basie</td>\n",
              "      <td>0.871</td>\n",
              "      <td>0.513</td>\n",
              "      <td>0.333</td>\n",
              "      <td>0.089200</td>\n",
              "      <td>0.181818</td>\n",
              "      <td>0.297</td>\n",
              "      <td>0.712898</td>\n",
              "      <td>0.25</td>\n",
              "      <td>0.1010</td>\n",
              "      <td>0.815849</td>\n",
              "      <td>0.876</td>\n",
              "    </tr>\n",
              "    <tr>\n",
              "      <th>4</th>\n",
              "      <td>Final Speech (From \"The Great Dictator\")</td>\n",
              "      <td>Charlie Chaplin</td>\n",
              "      <td>0.885</td>\n",
              "      <td>0.721</td>\n",
              "      <td>0.383</td>\n",
              "      <td>0.000000</td>\n",
              "      <td>0.181818</td>\n",
              "      <td>0.503</td>\n",
              "      <td>0.809033</td>\n",
              "      <td>0.24</td>\n",
              "      <td>0.6590</td>\n",
              "      <td>0.510885</td>\n",
              "      <td>0.629</td>\n",
              "    </tr>\n",
              "  </tbody>\n",
              "</table>\n",
              "</div>"
            ],
            "text/plain": [
              "                                                name  ... valence\n",
              "0                    Main Title - Gone With the Wind  ...   0.171\n",
              "1  Seven Come Eleven (feat. Benny Goodman & Charl...  ...   0.823\n",
              "2  Let's Do It (with Eddie Heywood & His Orchestr...  ...   0.597\n",
              "3                                       9:20 Special  ...   0.876\n",
              "4           Final Speech (From \"The Great Dictator\")  ...   0.629\n",
              "\n",
              "[5 rows x 13 columns]"
            ]
          },
          "metadata": {
            "tags": []
          },
          "execution_count": 2
        }
      ]
    },
    {
      "cell_type": "code",
      "metadata": {
        "id": "HHXXFaA7ffei"
      },
      "source": [
        "import pickle\r\n",
        "from sklearn.neighbors import NearestNeighbors\r\n",
        "\r\n",
        "def pickle_model(df):\r\n",
        "    df = df.copy()\r\n",
        "    model = NearestNeighbors(n_neighbors=11)\r\n",
        "    model.fit(df[df.columns[2:13]])\r\n",
        "\r\n",
        "    knn_file = open('model_knn.pkl', 'wb') # create file\r\n",
        "    pickle.dump(model, knn_file) # dumps model into file\r\n",
        "   \r\n",
        "    return model, knn_file"
      ],
      "execution_count": null,
      "outputs": []
    },
    {
      "cell_type": "code",
      "metadata": {
        "id": "aV-4jAuLDPQM"
      },
      "source": [
        "model, pickle_file = pickle_model(df)\r\n",
        "\r\n",
        "def NN_predict(track, artist=0): \r\n",
        "\r\n",
        "    knn_file = open('model_knn.pkl', 'rb') # read only version\r\n",
        "    model_knn = pickle.load(knn_file) # testing loading byte str\r\n",
        "\r\n",
        "    # Assigned input matches to a series\r\n",
        "    obs = df.index[df['name'] == track]\r\n",
        "    series = df.iloc[obs, 2:13].to_numpy()\r\n",
        "\r\n",
        "    # Query model based on input\r\n",
        "    neighbors = model_knn.kneighbors(series)\r\n",
        "    new_obs = neighbors[1][artist][1:11]\r\n",
        "   \r\n",
        "    # Unused for now\r\n",
        "    #song = list(df_new.loc[new_obs, 'name'])\r\n",
        "    #artists = list(df_new.loc[new_obs, 'artists'])\r\n",
        "\r\n",
        "    # Display artist and spotify id of all songs that match the input\r\n",
        "    artist_list = df.iloc[obs, 1]\r\n",
        "\r\n",
        "    # Using spotify track id to return dataframe of results\r\n",
        "    df_nn = df.loc[new_obs]\r\n",
        "\r\n",
        "    names = df_nn[['name', 'artists']]\r\n",
        "    names_dict = names.to_dict(orient='records')\r\n",
        "    \r\n",
        "    #print(artist_list)\r\n",
        "    return names_dict, artist_list, df_nn"
      ],
      "execution_count": null,
      "outputs": []
    },
    {
      "cell_type": "code",
      "metadata": {
        "id": "xwk4jnXjvcFM"
      },
      "source": [
        "'''\r\n",
        "names_dict is a dictionary comprised of the song names and artists \r\n",
        "of the nearest neighbor results.\r\n",
        "\r\n",
        "artist_list is list of all artists that have a song by that name.  By default \r\n",
        "the function returns the first result.  \r\n",
        "'''"
      ],
      "execution_count": null,
      "outputs": []
    },
    {
      "cell_type": "code",
      "metadata": {
        "colab": {
          "base_uri": "https://localhost:8080/"
        },
        "id": "2n7a8I70DSek",
        "outputId": "a80cadaa-bd9d-4b05-e8b9-33b7128aa669"
      },
      "source": [
        "results, artists, df_predict = NN_predict('Float On', artist=1)"
      ],
      "execution_count": 18,
      "outputs": [
        {
          "output_type": "stream",
          "text": [
            "The first artist is shown by default\n",
            "try artist=1 and so on to see other results\n"
          ],
          "name": "stdout"
        }
      ]
    },
    {
      "cell_type": "code",
      "metadata": {
        "colab": {
          "base_uri": "https://localhost:8080/"
        },
        "id": "RRaIUOfMriGd",
        "outputId": "57dab90f-87b7-40e7-ddf8-938d72333516"
      },
      "source": [
        "results"
      ],
      "execution_count": 19,
      "outputs": [
        {
          "output_type": "execute_result",
          "data": {
            "text/plain": [
              "[{'artists': 'Los Tigres Del Norte', 'name': 'El Tamal'},\n",
              " {'artists': 'Charles Wright & The Watts 103rd Street Rhythm Band',\n",
              "  'name': 'Express Yourself'},\n",
              " {'artists': 'Adolescents Orquesta', 'name': 'Arrepentida'},\n",
              " {'artists': 'The Irish Rovers', 'name': 'Star of the County Down'},\n",
              " {'artists': 'Salomn Robles Y Sus Legendarios', 'name': 'El Campanero'},\n",
              " {'artists': 'Virginia Lopez', 'name': 'Cariñito Azucarado'},\n",
              " {'artists': 'Los Tigres Del Norte', 'name': 'A Quien No Le Gusta Eso'},\n",
              " {'artists': 'Los Originales De San Juan', 'name': 'Perro Malagradecido'},\n",
              " {'artists': 'Frankie Ruiz', 'name': 'Mi Libertad'},\n",
              " {'artists': 'Paco Barrn y sus Norteos Clan', 'name': 'Tarjeta Roja'}]"
            ]
          },
          "metadata": {
            "tags": []
          },
          "execution_count": 19
        }
      ]
    },
    {
      "cell_type": "code",
      "metadata": {
        "colab": {
          "base_uri": "https://localhost:8080/"
        },
        "id": "AcJL53lHrlEb",
        "outputId": "e6fcedd2-a33a-46be-abab-f5caed47964e"
      },
      "source": [
        "artists"
      ],
      "execution_count": 20,
      "outputs": [
        {
          "output_type": "execute_result",
          "data": {
            "text/plain": [
              "12848                    Modest Mouse\n",
              "28128    TDre, Delux, Cali Life Style\n",
              "43272                    The Floaters\n",
              "Name: artists, dtype: object"
            ]
          },
          "metadata": {
            "tags": []
          },
          "execution_count": 20
        }
      ]
    },
    {
      "cell_type": "code",
      "metadata": {
        "colab": {
          "base_uri": "https://localhost:8080/",
          "height": 359
        },
        "id": "f2je7A7ivWPl",
        "outputId": "d4df334e-16c2-4360-d43d-c76c462fef31"
      },
      "source": [
        "df_predict"
      ],
      "execution_count": 21,
      "outputs": [
        {
          "output_type": "execute_result",
          "data": {
            "text/html": [
              "<div>\n",
              "<style scoped>\n",
              "    .dataframe tbody tr th:only-of-type {\n",
              "        vertical-align: middle;\n",
              "    }\n",
              "\n",
              "    .dataframe tbody tr th {\n",
              "        vertical-align: top;\n",
              "    }\n",
              "\n",
              "    .dataframe thead th {\n",
              "        text-align: right;\n",
              "    }\n",
              "</style>\n",
              "<table border=\"1\" class=\"dataframe\">\n",
              "  <thead>\n",
              "    <tr style=\"text-align: right;\">\n",
              "      <th></th>\n",
              "      <th>name</th>\n",
              "      <th>artists</th>\n",
              "      <th>acousticness</th>\n",
              "      <th>danceability</th>\n",
              "      <th>energy</th>\n",
              "      <th>instrumentalness</th>\n",
              "      <th>key</th>\n",
              "      <th>liveness</th>\n",
              "      <th>loudness</th>\n",
              "      <th>popularity</th>\n",
              "      <th>speechiness</th>\n",
              "      <th>tempo</th>\n",
              "      <th>valence</th>\n",
              "    </tr>\n",
              "  </thead>\n",
              "  <tbody>\n",
              "    <tr>\n",
              "      <th>75743</th>\n",
              "      <td>El Tamal</td>\n",
              "      <td>Los Tigres Del Norte</td>\n",
              "      <td>0.417</td>\n",
              "      <td>0.770</td>\n",
              "      <td>0.535</td>\n",
              "      <td>0.000014</td>\n",
              "      <td>0.636364</td>\n",
              "      <td>0.338</td>\n",
              "      <td>0.766660</td>\n",
              "      <td>0.44</td>\n",
              "      <td>0.1270</td>\n",
              "      <td>0.459773</td>\n",
              "      <td>0.892</td>\n",
              "    </tr>\n",
              "    <tr>\n",
              "      <th>6108</th>\n",
              "      <td>Express Yourself</td>\n",
              "      <td>Charles Wright &amp; The Watts 103rd Street Rhythm...</td>\n",
              "      <td>0.480</td>\n",
              "      <td>0.789</td>\n",
              "      <td>0.683</td>\n",
              "      <td>0.000000</td>\n",
              "      <td>0.727273</td>\n",
              "      <td>0.350</td>\n",
              "      <td>0.802664</td>\n",
              "      <td>0.59</td>\n",
              "      <td>0.0860</td>\n",
              "      <td>0.379090</td>\n",
              "      <td>0.882</td>\n",
              "    </tr>\n",
              "    <tr>\n",
              "      <th>60407</th>\n",
              "      <td>Arrepentida</td>\n",
              "      <td>Adolescents Orquesta</td>\n",
              "      <td>0.454</td>\n",
              "      <td>0.737</td>\n",
              "      <td>0.614</td>\n",
              "      <td>0.000000</td>\n",
              "      <td>0.727273</td>\n",
              "      <td>0.285</td>\n",
              "      <td>0.755036</td>\n",
              "      <td>0.53</td>\n",
              "      <td>0.0542</td>\n",
              "      <td>0.455547</td>\n",
              "      <td>0.895</td>\n",
              "    </tr>\n",
              "    <tr>\n",
              "      <th>27722</th>\n",
              "      <td>Star of the County Down</td>\n",
              "      <td>The Irish Rovers</td>\n",
              "      <td>0.451</td>\n",
              "      <td>0.695</td>\n",
              "      <td>0.656</td>\n",
              "      <td>0.000000</td>\n",
              "      <td>0.636364</td>\n",
              "      <td>0.274</td>\n",
              "      <td>0.786019</td>\n",
              "      <td>0.52</td>\n",
              "      <td>0.0324</td>\n",
              "      <td>0.428752</td>\n",
              "      <td>0.902</td>\n",
              "    </tr>\n",
              "    <tr>\n",
              "      <th>90603</th>\n",
              "      <td>El Campanero</td>\n",
              "      <td>Salomn Robles Y Sus Legendarios</td>\n",
              "      <td>0.495</td>\n",
              "      <td>0.836</td>\n",
              "      <td>0.652</td>\n",
              "      <td>0.000000</td>\n",
              "      <td>0.727273</td>\n",
              "      <td>0.342</td>\n",
              "      <td>0.860285</td>\n",
              "      <td>0.38</td>\n",
              "      <td>0.1080</td>\n",
              "      <td>0.388851</td>\n",
              "      <td>0.905</td>\n",
              "    </tr>\n",
              "    <tr>\n",
              "      <th>121369</th>\n",
              "      <td>Cariñito Azucarado</td>\n",
              "      <td>Virginia Lopez</td>\n",
              "      <td>0.398</td>\n",
              "      <td>0.790</td>\n",
              "      <td>0.592</td>\n",
              "      <td>0.000167</td>\n",
              "      <td>0.727273</td>\n",
              "      <td>0.321</td>\n",
              "      <td>0.738203</td>\n",
              "      <td>0.46</td>\n",
              "      <td>0.0506</td>\n",
              "      <td>0.513225</td>\n",
              "      <td>0.908</td>\n",
              "    </tr>\n",
              "    <tr>\n",
              "      <th>89011</th>\n",
              "      <td>A Quien No Le Gusta Eso</td>\n",
              "      <td>Los Tigres Del Norte</td>\n",
              "      <td>0.506</td>\n",
              "      <td>0.786</td>\n",
              "      <td>0.597</td>\n",
              "      <td>0.000006</td>\n",
              "      <td>0.636364</td>\n",
              "      <td>0.284</td>\n",
              "      <td>0.756871</td>\n",
              "      <td>0.33</td>\n",
              "      <td>0.1770</td>\n",
              "      <td>0.318151</td>\n",
              "      <td>0.887</td>\n",
              "    </tr>\n",
              "    <tr>\n",
              "      <th>77077</th>\n",
              "      <td>Perro Malagradecido</td>\n",
              "      <td>Los Originales De San Juan</td>\n",
              "      <td>0.346</td>\n",
              "      <td>0.704</td>\n",
              "      <td>0.734</td>\n",
              "      <td>0.000000</td>\n",
              "      <td>0.636364</td>\n",
              "      <td>0.368</td>\n",
              "      <td>0.786521</td>\n",
              "      <td>0.44</td>\n",
              "      <td>0.1000</td>\n",
              "      <td>0.479280</td>\n",
              "      <td>0.919</td>\n",
              "    </tr>\n",
              "    <tr>\n",
              "      <th>123254</th>\n",
              "      <td>Mi Libertad</td>\n",
              "      <td>Frankie Ruiz</td>\n",
              "      <td>0.421</td>\n",
              "      <td>0.813</td>\n",
              "      <td>0.699</td>\n",
              "      <td>0.000002</td>\n",
              "      <td>0.727273</td>\n",
              "      <td>0.252</td>\n",
              "      <td>0.820485</td>\n",
              "      <td>0.38</td>\n",
              "      <td>0.0465</td>\n",
              "      <td>0.383209</td>\n",
              "      <td>0.937</td>\n",
              "    </tr>\n",
              "    <tr>\n",
              "      <th>91222</th>\n",
              "      <td>Tarjeta Roja</td>\n",
              "      <td>Paco Barrn y sus Norteos Clan</td>\n",
              "      <td>0.390</td>\n",
              "      <td>0.789</td>\n",
              "      <td>0.753</td>\n",
              "      <td>0.000068</td>\n",
              "      <td>0.636364</td>\n",
              "      <td>0.337</td>\n",
              "      <td>0.834541</td>\n",
              "      <td>0.41</td>\n",
              "      <td>0.0390</td>\n",
              "      <td>0.346314</td>\n",
              "      <td>0.966</td>\n",
              "    </tr>\n",
              "  </tbody>\n",
              "</table>\n",
              "</div>"
            ],
            "text/plain": [
              "                           name  ... valence\n",
              "75743                  El Tamal  ...   0.892\n",
              "6108           Express Yourself  ...   0.882\n",
              "60407               Arrepentida  ...   0.895\n",
              "27722   Star of the County Down  ...   0.902\n",
              "90603              El Campanero  ...   0.905\n",
              "121369       Cariñito Azucarado  ...   0.908\n",
              "89011   A Quien No Le Gusta Eso  ...   0.887\n",
              "77077       Perro Malagradecido  ...   0.919\n",
              "123254              Mi Libertad  ...   0.937\n",
              "91222              Tarjeta Roja  ...   0.966\n",
              "\n",
              "[10 rows x 13 columns]"
            ]
          },
          "metadata": {
            "tags": []
          },
          "execution_count": 21
        }
      ]
    },
    {
      "cell_type": "code",
      "metadata": {
        "colab": {
          "base_uri": "https://localhost:8080/",
          "height": 499
        },
        "id": "1LsFIckIDaVJ",
        "outputId": "908ba093-c08f-49c7-9b74-9e840c870a48"
      },
      "source": [
        "import matplotlib.pyplot as plt\r\n",
        "\r\n",
        "cols = ['acousticness',\t'danceability', 'energy', 'instrumentalness', 'key',\r\n",
        "        'liveness', 'loudness',\t'popularity', 'speechiness', 'tempo', 'valence']\r\n",
        " \r\n",
        "red_square = dict(markerfacecolor='r', marker='s')\r\n",
        "df_predict.boxplot(column=cols, vert=False, flierprops=red_square, figsize=(9,8))\r\n",
        "plt.title('Strength of variables')\r\n",
        "plt.show()"
      ],
      "execution_count": null,
      "outputs": [
        {
          "output_type": "display_data",
          "data": {
            "image/png": "[encoded data removed]",
            "text/plain": [
              "<Figure size 648x576 with 1 Axes>"
            ]
          },
          "metadata": {
            "tags": [],
            "needs_background": "light"
          }
        }
      ]
    },
    {
      "cell_type": "code",
      "metadata": {
        "id": "8U_Ir1WrYD4d"
      },
      "source": [
        ""
      ],
      "execution_count": null,
      "outputs": []
    }
  ]
}